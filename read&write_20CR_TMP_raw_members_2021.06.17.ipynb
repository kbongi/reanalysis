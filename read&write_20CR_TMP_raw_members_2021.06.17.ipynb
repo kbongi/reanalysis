{
 "cells": [
  {
   "cell_type": "markdown",
   "metadata": {},
   "source": [
    "# read in raw 20CR members and save as netcdfs\n"
   ]
  },
  {
   "cell_type": "code",
   "execution_count": 1,
   "metadata": {},
   "outputs": [],
   "source": [
    "import xarray as xr, matplotlib.pyplot as plt\n",
    "from importlib import reload # need to use this if I edit a function file\n",
    "import os\n",
    "import numpy as np\n",
    "import pandas as pd\n",
    "import cartopy.crs as ccrs # to add in continents and change map projections \n",
    "from matplotlib.colors import LinearSegmentedColormap # to change colour bar????\n",
    "import dask.diagnostics # dask allows you to check how long something is taking to load\n",
    "import climtas # needed to count event statistics with a specified duration"
   ]
  },
  {
   "cell_type": "code",
   "execution_count": 3,
   "metadata": {},
   "outputs": [],
   "source": [
    "# import custom functions\n",
    "import sys \n",
    "sys.path.append('/home/563/kb6999/Functions') # use this if the function file is in a different directory to the notebook\n",
    "sys.path.append('/g/data/w48/kb6999/20CR_TMP_members/') \n",
    "\n",
    "import frequently_used_functions as func\n",
    "import plotting_functions as fplot\n",
    "import model_functions as funcM\n",
    "import reanalysis_functions as funcR"
   ]
  },
  {
   "cell_type": "code",
   "execution_count": 4,
   "metadata": {},
   "outputs": [],
   "source": [
    "# Create a list with all the strings identifying your members\n",
    "# use a combination of range and zfill to get the leading zeros.\n",
    "member_list = [str(x).zfill(2) for x in range(1,81)]"
   ]
  },
  {
   "cell_type": "markdown",
   "metadata": {},
   "source": [
    "## monthly raw"
   ]
  },
  {
   "cell_type": "code",
   "execution_count": 5,
   "metadata": {
    "scrolled": true
   },
   "outputs": [
    {
     "name": "stdout",
     "output_type": "stream",
     "text": [
      "Read in member 01, combined years and written raw values to netcdf file in folder \"20CR_TMP_raw_members\"\n",
      "Read in member 02, combined years and written raw values to netcdf file in folder \"20CR_TMP_raw_members\"\n",
      "Read in member 03, combined years and written raw values to netcdf file in folder \"20CR_TMP_raw_members\"\n",
      "Read in member 04, combined years and written raw values to netcdf file in folder \"20CR_TMP_raw_members\"\n",
      "Read in member 05, combined years and written raw values to netcdf file in folder \"20CR_TMP_raw_members\"\n",
      "Read in member 06, combined years and written raw values to netcdf file in folder \"20CR_TMP_raw_members\"\n",
      "Read in member 07, combined years and written raw values to netcdf file in folder \"20CR_TMP_raw_members\"\n",
      "Read in member 08, combined years and written raw values to netcdf file in folder \"20CR_TMP_raw_members\"\n",
      "Read in member 09, combined years and written raw values to netcdf file in folder \"20CR_TMP_raw_members\"\n",
      "Read in member 10, combined years and written raw values to netcdf file in folder \"20CR_TMP_raw_members\"\n",
      "Read in member 11, combined years and written raw values to netcdf file in folder \"20CR_TMP_raw_members\"\n",
      "Read in member 12, combined years and written raw values to netcdf file in folder \"20CR_TMP_raw_members\"\n",
      "Read in member 13, combined years and written raw values to netcdf file in folder \"20CR_TMP_raw_members\"\n",
      "Read in member 14, combined years and written raw values to netcdf file in folder \"20CR_TMP_raw_members\"\n",
      "Read in member 15, combined years and written raw values to netcdf file in folder \"20CR_TMP_raw_members\"\n",
      "Read in member 16, combined years and written raw values to netcdf file in folder \"20CR_TMP_raw_members\"\n",
      "Read in member 17, combined years and written raw values to netcdf file in folder \"20CR_TMP_raw_members\"\n",
      "Read in member 18, combined years and written raw values to netcdf file in folder \"20CR_TMP_raw_members\"\n",
      "Read in member 19, combined years and written raw values to netcdf file in folder \"20CR_TMP_raw_members\"\n",
      "Read in member 20, combined years and written raw values to netcdf file in folder \"20CR_TMP_raw_members\"\n",
      "Read in member 21, combined years and written raw values to netcdf file in folder \"20CR_TMP_raw_members\"\n",
      "Read in member 22, combined years and written raw values to netcdf file in folder \"20CR_TMP_raw_members\"\n",
      "Read in member 23, combined years and written raw values to netcdf file in folder \"20CR_TMP_raw_members\"\n",
      "Read in member 24, combined years and written raw values to netcdf file in folder \"20CR_TMP_raw_members\"\n",
      "Read in member 25, combined years and written raw values to netcdf file in folder \"20CR_TMP_raw_members\"\n",
      "Read in member 26, combined years and written raw values to netcdf file in folder \"20CR_TMP_raw_members\"\n",
      "Read in member 27, combined years and written raw values to netcdf file in folder \"20CR_TMP_raw_members\"\n",
      "Read in member 28, combined years and written raw values to netcdf file in folder \"20CR_TMP_raw_members\"\n",
      "Read in member 29, combined years and written raw values to netcdf file in folder \"20CR_TMP_raw_members\"\n",
      "Read in member 30, combined years and written raw values to netcdf file in folder \"20CR_TMP_raw_members\"\n",
      "Read in member 31, combined years and written raw values to netcdf file in folder \"20CR_TMP_raw_members\"\n",
      "Read in member 32, combined years and written raw values to netcdf file in folder \"20CR_TMP_raw_members\"\n",
      "Read in member 33, combined years and written raw values to netcdf file in folder \"20CR_TMP_raw_members\"\n",
      "Read in member 34, combined years and written raw values to netcdf file in folder \"20CR_TMP_raw_members\"\n"
     ]
    },
    {
     "name": "stderr",
     "output_type": "stream",
     "text": [
      "/g/data3/hh5/public/apps/miniconda3/envs/analysis3-21.01/lib/python3.8/site-packages/dask/array/numpy_compat.py:40: RuntimeWarning: invalid value encountered in true_divide\n",
      "  x = np.divide(x1, x2, out)\n"
     ]
    },
    {
     "name": "stdout",
     "output_type": "stream",
     "text": [
      "Read in member 35, combined years and written raw values to netcdf file in folder \"20CR_TMP_raw_members\"\n",
      "Read in member 36, combined years and written raw values to netcdf file in folder \"20CR_TMP_raw_members\"\n",
      "Read in member 37, combined years and written raw values to netcdf file in folder \"20CR_TMP_raw_members\"\n",
      "Read in member 38, combined years and written raw values to netcdf file in folder \"20CR_TMP_raw_members\"\n",
      "Read in member 39, combined years and written raw values to netcdf file in folder \"20CR_TMP_raw_members\"\n",
      "Read in member 40, combined years and written raw values to netcdf file in folder \"20CR_TMP_raw_members\"\n",
      "Read in member 41, combined years and written raw values to netcdf file in folder \"20CR_TMP_raw_members\"\n",
      "Read in member 42, combined years and written raw values to netcdf file in folder \"20CR_TMP_raw_members\"\n",
      "Read in member 43, combined years and written raw values to netcdf file in folder \"20CR_TMP_raw_members\"\n",
      "Read in member 44, combined years and written raw values to netcdf file in folder \"20CR_TMP_raw_members\"\n",
      "Read in member 45, combined years and written raw values to netcdf file in folder \"20CR_TMP_raw_members\"\n",
      "Read in member 46, combined years and written raw values to netcdf file in folder \"20CR_TMP_raw_members\"\n",
      "Read in member 47, combined years and written raw values to netcdf file in folder \"20CR_TMP_raw_members\"\n",
      "Read in member 48, combined years and written raw values to netcdf file in folder \"20CR_TMP_raw_members\"\n",
      "Read in member 49, combined years and written raw values to netcdf file in folder \"20CR_TMP_raw_members\"\n",
      "Read in member 50, combined years and written raw values to netcdf file in folder \"20CR_TMP_raw_members\"\n",
      "Read in member 51, combined years and written raw values to netcdf file in folder \"20CR_TMP_raw_members\"\n",
      "Read in member 52, combined years and written raw values to netcdf file in folder \"20CR_TMP_raw_members\"\n",
      "Read in member 53, combined years and written raw values to netcdf file in folder \"20CR_TMP_raw_members\"\n",
      "Read in member 54, combined years and written raw values to netcdf file in folder \"20CR_TMP_raw_members\"\n",
      "Read in member 55, combined years and written raw values to netcdf file in folder \"20CR_TMP_raw_members\"\n",
      "Read in member 56, combined years and written raw values to netcdf file in folder \"20CR_TMP_raw_members\"\n",
      "Read in member 57, combined years and written raw values to netcdf file in folder \"20CR_TMP_raw_members\"\n",
      "Read in member 58, combined years and written raw values to netcdf file in folder \"20CR_TMP_raw_members\"\n",
      "Read in member 59, combined years and written raw values to netcdf file in folder \"20CR_TMP_raw_members\"\n",
      "Read in member 60, combined years and written raw values to netcdf file in folder \"20CR_TMP_raw_members\"\n",
      "Read in member 61, combined years and written raw values to netcdf file in folder \"20CR_TMP_raw_members\"\n",
      "Read in member 62, combined years and written raw values to netcdf file in folder \"20CR_TMP_raw_members\"\n",
      "Read in member 63, combined years and written raw values to netcdf file in folder \"20CR_TMP_raw_members\"\n",
      "Read in member 64, combined years and written raw values to netcdf file in folder \"20CR_TMP_raw_members\"\n",
      "Read in member 65, combined years and written raw values to netcdf file in folder \"20CR_TMP_raw_members\"\n",
      "Read in member 66, combined years and written raw values to netcdf file in folder \"20CR_TMP_raw_members\"\n",
      "Read in member 67, combined years and written raw values to netcdf file in folder \"20CR_TMP_raw_members\"\n",
      "Read in member 68, combined years and written raw values to netcdf file in folder \"20CR_TMP_raw_members\"\n",
      "Read in member 69, combined years and written raw values to netcdf file in folder \"20CR_TMP_raw_members\"\n"
     ]
    },
    {
     "name": "stderr",
     "output_type": "stream",
     "text": [
      "/g/data3/hh5/public/apps/miniconda3/envs/analysis3-21.01/lib/python3.8/site-packages/dask/array/numpy_compat.py:40: RuntimeWarning: invalid value encountered in true_divide\n",
      "  x = np.divide(x1, x2, out)\n"
     ]
    },
    {
     "name": "stdout",
     "output_type": "stream",
     "text": [
      "Read in member 70, combined years and written raw values to netcdf file in folder \"20CR_TMP_raw_members\"\n",
      "Read in member 71, combined years and written raw values to netcdf file in folder \"20CR_TMP_raw_members\"\n",
      "Read in member 72, combined years and written raw values to netcdf file in folder \"20CR_TMP_raw_members\"\n",
      "Read in member 73, combined years and written raw values to netcdf file in folder \"20CR_TMP_raw_members\"\n",
      "Read in member 74, combined years and written raw values to netcdf file in folder \"20CR_TMP_raw_members\"\n",
      "Read in member 75, combined years and written raw values to netcdf file in folder \"20CR_TMP_raw_members\"\n",
      "Read in member 76, combined years and written raw values to netcdf file in folder \"20CR_TMP_raw_members\"\n",
      "Read in member 77, combined years and written raw values to netcdf file in folder \"20CR_TMP_raw_members\"\n",
      "Read in member 78, combined years and written raw values to netcdf file in folder \"20CR_TMP_raw_members\"\n",
      "Read in member 79, combined years and written raw values to netcdf file in folder \"20CR_TMP_raw_members\"\n",
      "Read in member 80, combined years and written raw values to netcdf file in folder \"20CR_TMP_raw_members\"\n"
     ]
    }
   ],
   "source": [
    "# read in all the datafiles for every year for one member at a time \n",
    "# calculate anomalies and save each member (with all years) as a netcdf\n",
    "for m in member_list:\n",
    "    path = f'/g/data/ua8/C20C/v3/member_monthly/TMPS/*/*_mem0{m}.nc'\n",
    "    funcR.read_member_raw(path, m, 'TMP')"
   ]
  },
  {
   "cell_type": "code",
   "execution_count": null,
   "metadata": {},
   "outputs": [],
   "source": []
  },
  {
   "cell_type": "code",
   "execution_count": null,
   "metadata": {},
   "outputs": [],
   "source": [
    "# for m in member_list:\n",
    "#     path = f'/g/data/ua8/C20C/v3/member_monthly/TMPS/*/*_mem0{m}.nc'\n",
    "#     member_ds_t = xr.open_mfdataset(read_path, parallel=True)\n",
    "#     member_ds_t = member_ds_t.chunk(chunks={'time':-1, 'lat':110, 'lon':110})\n",
    "\n",
    "#     reanal_w = member_ds_t\n",
    "\n",
    "#     # group the data by month (take the monthly mean)\n",
    "#     reanal_mon = reanal_w.resample(time='M').mean(dim='time').chunk(chunks={'time':-1, 'lat':110, 'lon':110})\n"
   ]
  },
  {
   "cell_type": "code",
   "execution_count": null,
   "metadata": {},
   "outputs": [],
   "source": []
  }
 ],
 "metadata": {
  "kernelspec": {
   "display_name": "Python 3",
   "language": "python",
   "name": "python3"
  },
  "language_info": {
   "codemirror_mode": {
    "name": "ipython",
    "version": 3
   },
   "file_extension": ".py",
   "mimetype": "text/x-python",
   "name": "python",
   "nbconvert_exporter": "python",
   "pygments_lexer": "ipython3",
   "version": "3.8.6"
  }
 },
 "nbformat": 4,
 "nbformat_minor": 4
}
