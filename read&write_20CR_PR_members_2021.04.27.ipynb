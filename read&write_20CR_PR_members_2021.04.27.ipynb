{
 "cells": [
  {
   "cell_type": "markdown",
   "metadata": {},
   "source": [
    "# read in 20CR members and write to net cdfs\n",
    "- can select and run different cells dependingon if I want monthly members or seasonal anomaly members"
   ]
  },
  {
   "cell_type": "code",
   "execution_count": 1,
   "metadata": {},
   "outputs": [],
   "source": [
    "import xarray as xr, matplotlib.pyplot as plt\n",
    "from importlib import reload # need to use this if I edit a function file\n",
    "import os\n",
    "import numpy as np\n",
    "import pandas as pd\n",
    "import cartopy.crs as ccrs # to add in continents and change map projections \n",
    "from matplotlib.colors import LinearSegmentedColormap # to change colour bar????\n",
    "import dask.diagnostics # dask allows you to check how long something is taking to load\n",
    "import climtas # needed to count event statistics with a specified duration"
   ]
  },
  {
   "cell_type": "code",
   "execution_count": 3,
   "metadata": {},
   "outputs": [],
   "source": [
    "# import custom functions\n",
    "import sys \n",
    "sys.path.append('/home/563/kb6999/Functions') # use this if the function file is in a different directory to the notebook\n",
    "sys.path.append('/g/data/w48/kb6999/20CR_TMP_members/') \n",
    "\n",
    "import frequently_used_functions as func\n",
    "import plotting_functions as fplot\n",
    "import model_functions as funcM\n",
    "import reanalysis_functions as funcR"
   ]
  },
  {
   "cell_type": "code",
   "execution_count": 4,
   "metadata": {},
   "outputs": [],
   "source": [
    "# Create a list with all the strings identifying your members\n",
    "# use a combination of range and zfill to get the leading zeros.\n",
    "member_list = [str(x).zfill(2) for x in range(1,81)]"
   ]
  },
  {
   "cell_type": "markdown",
   "metadata": {},
   "source": [
    "## monthly anomalies"
   ]
  },
  {
   "cell_type": "code",
   "execution_count": null,
   "metadata": {
    "scrolled": true
   },
   "outputs": [],
   "source": [
    "# read in all the datafiles for each year for one member at a time \n",
    "# calculate anomalies and save each member (with all years) as a netcdf\n",
    "for m in member_list:\n",
    "    path = f'/g/data/ua8/C20C/v3/member_monthly/PRATE/*/*_mem0{m}.nc'\n",
    "    funcR.read_member(path, m, 'PRATE')"
   ]
  },
  {
   "cell_type": "markdown",
   "metadata": {},
   "source": [
    "## seasonal anomalies"
   ]
  },
  {
   "cell_type": "code",
   "execution_count": 5,
   "metadata": {
    "scrolled": true
   },
   "outputs": [
    {
     "name": "stdout",
     "output_type": "stream",
     "text": [
      "Read in member 01, taken seasonal anomalies and written to netcdf file in folder \"20CR_PRATE_seasonal_members\"\n",
      "Read in member 02, taken seasonal anomalies and written to netcdf file in folder \"20CR_PRATE_seasonal_members\"\n",
      "Read in member 03, taken seasonal anomalies and written to netcdf file in folder \"20CR_PRATE_seasonal_members\"\n",
      "Read in member 04, taken seasonal anomalies and written to netcdf file in folder \"20CR_PRATE_seasonal_members\"\n",
      "Read in member 05, taken seasonal anomalies and written to netcdf file in folder \"20CR_PRATE_seasonal_members\"\n",
      "Read in member 06, taken seasonal anomalies and written to netcdf file in folder \"20CR_PRATE_seasonal_members\"\n",
      "Read in member 07, taken seasonal anomalies and written to netcdf file in folder \"20CR_PRATE_seasonal_members\"\n",
      "Read in member 08, taken seasonal anomalies and written to netcdf file in folder \"20CR_PRATE_seasonal_members\"\n",
      "Read in member 09, taken seasonal anomalies and written to netcdf file in folder \"20CR_PRATE_seasonal_members\"\n",
      "Read in member 10, taken seasonal anomalies and written to netcdf file in folder \"20CR_PRATE_seasonal_members\"\n",
      "Read in member 11, taken seasonal anomalies and written to netcdf file in folder \"20CR_PRATE_seasonal_members\"\n",
      "Read in member 12, taken seasonal anomalies and written to netcdf file in folder \"20CR_PRATE_seasonal_members\"\n",
      "Read in member 13, taken seasonal anomalies and written to netcdf file in folder \"20CR_PRATE_seasonal_members\"\n",
      "Read in member 14, taken seasonal anomalies and written to netcdf file in folder \"20CR_PRATE_seasonal_members\"\n",
      "Read in member 15, taken seasonal anomalies and written to netcdf file in folder \"20CR_PRATE_seasonal_members\"\n",
      "Read in member 16, taken seasonal anomalies and written to netcdf file in folder \"20CR_PRATE_seasonal_members\"\n",
      "Read in member 17, taken seasonal anomalies and written to netcdf file in folder \"20CR_PRATE_seasonal_members\"\n",
      "Read in member 18, taken seasonal anomalies and written to netcdf file in folder \"20CR_PRATE_seasonal_members\"\n"
     ]
    },
    {
     "name": "stderr",
     "output_type": "stream",
     "text": [
      "/g/data3/hh5/public/apps/miniconda3/envs/analysis3-21.01/lib/python3.8/site-packages/dask/array/numpy_compat.py:40: RuntimeWarning: invalid value encountered in true_divide\n",
      "  x = np.divide(x1, x2, out)\n"
     ]
    },
    {
     "name": "stdout",
     "output_type": "stream",
     "text": [
      "Read in member 19, taken seasonal anomalies and written to netcdf file in folder \"20CR_PRATE_seasonal_members\"\n",
      "Read in member 20, taken seasonal anomalies and written to netcdf file in folder \"20CR_PRATE_seasonal_members\"\n",
      "Read in member 21, taken seasonal anomalies and written to netcdf file in folder \"20CR_PRATE_seasonal_members\"\n",
      "Read in member 22, taken seasonal anomalies and written to netcdf file in folder \"20CR_PRATE_seasonal_members\"\n",
      "Read in member 23, taken seasonal anomalies and written to netcdf file in folder \"20CR_PRATE_seasonal_members\"\n",
      "Read in member 24, taken seasonal anomalies and written to netcdf file in folder \"20CR_PRATE_seasonal_members\"\n",
      "Read in member 25, taken seasonal anomalies and written to netcdf file in folder \"20CR_PRATE_seasonal_members\"\n",
      "Read in member 26, taken seasonal anomalies and written to netcdf file in folder \"20CR_PRATE_seasonal_members\"\n",
      "Read in member 27, taken seasonal anomalies and written to netcdf file in folder \"20CR_PRATE_seasonal_members\"\n",
      "Read in member 28, taken seasonal anomalies and written to netcdf file in folder \"20CR_PRATE_seasonal_members\"\n",
      "Read in member 29, taken seasonal anomalies and written to netcdf file in folder \"20CR_PRATE_seasonal_members\"\n",
      "Read in member 30, taken seasonal anomalies and written to netcdf file in folder \"20CR_PRATE_seasonal_members\"\n",
      "Read in member 31, taken seasonal anomalies and written to netcdf file in folder \"20CR_PRATE_seasonal_members\"\n",
      "Read in member 32, taken seasonal anomalies and written to netcdf file in folder \"20CR_PRATE_seasonal_members\"\n",
      "Read in member 33, taken seasonal anomalies and written to netcdf file in folder \"20CR_PRATE_seasonal_members\"\n",
      "Read in member 34, taken seasonal anomalies and written to netcdf file in folder \"20CR_PRATE_seasonal_members\"\n",
      "Read in member 35, taken seasonal anomalies and written to netcdf file in folder \"20CR_PRATE_seasonal_members\"\n",
      "Read in member 36, taken seasonal anomalies and written to netcdf file in folder \"20CR_PRATE_seasonal_members\"\n",
      "Read in member 37, taken seasonal anomalies and written to netcdf file in folder \"20CR_PRATE_seasonal_members\"\n",
      "Read in member 38, taken seasonal anomalies and written to netcdf file in folder \"20CR_PRATE_seasonal_members\"\n",
      "Read in member 39, taken seasonal anomalies and written to netcdf file in folder \"20CR_PRATE_seasonal_members\"\n",
      "Read in member 40, taken seasonal anomalies and written to netcdf file in folder \"20CR_PRATE_seasonal_members\"\n",
      "Read in member 41, taken seasonal anomalies and written to netcdf file in folder \"20CR_PRATE_seasonal_members\"\n",
      "Read in member 42, taken seasonal anomalies and written to netcdf file in folder \"20CR_PRATE_seasonal_members\"\n",
      "Read in member 43, taken seasonal anomalies and written to netcdf file in folder \"20CR_PRATE_seasonal_members\"\n",
      "Read in member 44, taken seasonal anomalies and written to netcdf file in folder \"20CR_PRATE_seasonal_members\"\n",
      "Read in member 45, taken seasonal anomalies and written to netcdf file in folder \"20CR_PRATE_seasonal_members\"\n",
      "Read in member 46, taken seasonal anomalies and written to netcdf file in folder \"20CR_PRATE_seasonal_members\"\n",
      "Read in member 47, taken seasonal anomalies and written to netcdf file in folder \"20CR_PRATE_seasonal_members\"\n",
      "Read in member 48, taken seasonal anomalies and written to netcdf file in folder \"20CR_PRATE_seasonal_members\"\n",
      "Read in member 49, taken seasonal anomalies and written to netcdf file in folder \"20CR_PRATE_seasonal_members\"\n",
      "Read in member 50, taken seasonal anomalies and written to netcdf file in folder \"20CR_PRATE_seasonal_members\"\n",
      "Read in member 51, taken seasonal anomalies and written to netcdf file in folder \"20CR_PRATE_seasonal_members\"\n",
      "Read in member 52, taken seasonal anomalies and written to netcdf file in folder \"20CR_PRATE_seasonal_members\"\n",
      "Read in member 53, taken seasonal anomalies and written to netcdf file in folder \"20CR_PRATE_seasonal_members\"\n",
      "Read in member 54, taken seasonal anomalies and written to netcdf file in folder \"20CR_PRATE_seasonal_members\"\n",
      "Read in member 55, taken seasonal anomalies and written to netcdf file in folder \"20CR_PRATE_seasonal_members\"\n",
      "Read in member 56, taken seasonal anomalies and written to netcdf file in folder \"20CR_PRATE_seasonal_members\"\n",
      "Read in member 57, taken seasonal anomalies and written to netcdf file in folder \"20CR_PRATE_seasonal_members\"\n",
      "Read in member 58, taken seasonal anomalies and written to netcdf file in folder \"20CR_PRATE_seasonal_members\"\n",
      "Read in member 59, taken seasonal anomalies and written to netcdf file in folder \"20CR_PRATE_seasonal_members\"\n",
      "Read in member 60, taken seasonal anomalies and written to netcdf file in folder \"20CR_PRATE_seasonal_members\"\n",
      "Read in member 61, taken seasonal anomalies and written to netcdf file in folder \"20CR_PRATE_seasonal_members\"\n",
      "Read in member 62, taken seasonal anomalies and written to netcdf file in folder \"20CR_PRATE_seasonal_members\"\n",
      "Read in member 63, taken seasonal anomalies and written to netcdf file in folder \"20CR_PRATE_seasonal_members\"\n",
      "Read in member 64, taken seasonal anomalies and written to netcdf file in folder \"20CR_PRATE_seasonal_members\"\n",
      "Read in member 65, taken seasonal anomalies and written to netcdf file in folder \"20CR_PRATE_seasonal_members\"\n",
      "Read in member 66, taken seasonal anomalies and written to netcdf file in folder \"20CR_PRATE_seasonal_members\"\n",
      "Read in member 67, taken seasonal anomalies and written to netcdf file in folder \"20CR_PRATE_seasonal_members\"\n",
      "Read in member 68, taken seasonal anomalies and written to netcdf file in folder \"20CR_PRATE_seasonal_members\"\n",
      "Read in member 69, taken seasonal anomalies and written to netcdf file in folder \"20CR_PRATE_seasonal_members\"\n",
      "Read in member 70, taken seasonal anomalies and written to netcdf file in folder \"20CR_PRATE_seasonal_members\"\n",
      "Read in member 71, taken seasonal anomalies and written to netcdf file in folder \"20CR_PRATE_seasonal_members\"\n",
      "Read in member 72, taken seasonal anomalies and written to netcdf file in folder \"20CR_PRATE_seasonal_members\"\n",
      "Read in member 73, taken seasonal anomalies and written to netcdf file in folder \"20CR_PRATE_seasonal_members\"\n",
      "Read in member 74, taken seasonal anomalies and written to netcdf file in folder \"20CR_PRATE_seasonal_members\"\n",
      "Read in member 75, taken seasonal anomalies and written to netcdf file in folder \"20CR_PRATE_seasonal_members\"\n",
      "Read in member 76, taken seasonal anomalies and written to netcdf file in folder \"20CR_PRATE_seasonal_members\"\n",
      "Read in member 77, taken seasonal anomalies and written to netcdf file in folder \"20CR_PRATE_seasonal_members\"\n",
      "Read in member 78, taken seasonal anomalies and written to netcdf file in folder \"20CR_PRATE_seasonal_members\"\n",
      "Read in member 79, taken seasonal anomalies and written to netcdf file in folder \"20CR_PRATE_seasonal_members\"\n",
      "Read in member 80, taken seasonal anomalies and written to netcdf file in folder \"20CR_PRATE_seasonal_members\"\n"
     ]
    }
   ],
   "source": [
    "# read in all the datafiles for each year for one member at a time \n",
    "# calculate anomalies and save each member (with all years) as a netcdf\n",
    "for m in member_list:\n",
    "    path = f'/g/data/ua8/C20C/v3/member_monthly/PRATE/*/*_mem0{m}.nc'\n",
    "    funcR.read_member_seasonal(path, m, 'PRATE')"
   ]
  },
  {
   "cell_type": "code",
   "execution_count": null,
   "metadata": {},
   "outputs": [],
   "source": []
  }
 ],
 "metadata": {
  "kernelspec": {
   "display_name": "Python 3",
   "language": "python",
   "name": "python3"
  },
  "language_info": {
   "codemirror_mode": {
    "name": "ipython",
    "version": 3
   },
   "file_extension": ".py",
   "mimetype": "text/x-python",
   "name": "python",
   "nbconvert_exporter": "python",
   "pygments_lexer": "ipython3",
   "version": "3.8.10"
  }
 },
 "nbformat": 4,
 "nbformat_minor": 4
}
